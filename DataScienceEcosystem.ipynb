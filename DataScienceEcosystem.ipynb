{
 "cells": [
  {
   "cell_type": "markdown",
   "id": "4634e200",
   "metadata": {},
   "source": [
    "# Data Science Tools and Ecosystem\n"
   ]
  },
  {
   "cell_type": "markdown",
   "id": "1a2489dc",
   "metadata": {},
   "source": [
    "In this notebook, Data Science Tools and Ecosystem are summarized."
   ]
  },
  {
   "cell_type": "markdown",
   "id": "51fbc390",
   "metadata": {},
   "source": [
    "**Objectives**\n"
   ]
  },
  {
   "cell_type": "markdown",
   "id": "1a74db80",
   "metadata": {},
   "source": [
    "Some of the popular data science languages are:<br>\n",
    "*Python <br>\n",
    "*R <br>\n",
    "*SQL <br>\n",
    "*Java <br>\n",
    "    \n",
    "    \n",
    "    "
   ]
  },
  {
   "cell_type": "markdown",
   "id": "abbad3a7",
   "metadata": {},
   "source": [
    "Some of the commonly used libraries used by Data Scientists include:\n",
    "1. Pytorch\n",
    "2. Numpy\n",
    "3. Scikit\n",
    "4. Pandas\n"
   ]
  },
  {
   "cell_type": "markdown",
   "id": "1f96f169",
   "metadata": {},
   "source": [
    "Data Science Tools<br>----------------------br>Apache Spark <br>Tensorflow <br> Pytorch<br>\n",
    "\n",
    "\n"
   ]
  },
  {
   "cell_type": "markdown",
   "id": "f23218be",
   "metadata": {},
   "source": [
    "### Below are a few examples of evaluating arithmetic expressions in Python\n",
    "3+3<br>\n",
    "4-1"
   ]
  },
  {
   "cell_type": "code",
   "execution_count": 20,
   "id": "ee2b4594",
   "metadata": {},
   "outputs": [
    {
     "data": {
      "text/plain": [
       "17"
      ]
     },
     "execution_count": 20,
     "metadata": {},
     "output_type": "execute_result"
    }
   ],
   "source": [
    "# This a simple arithmetic expression to mutiply then add integers\n",
    "(3*4)+5"
   ]
  },
  {
   "cell_type": "code",
   "execution_count": 21,
   "id": "6a03bd76",
   "metadata": {},
   "outputs": [
    {
     "data": {
      "text/plain": [
       "3.3333333333333335"
      ]
     },
     "execution_count": 21,
     "metadata": {},
     "output_type": "execute_result"
    }
   ],
   "source": [
    "# This will convert 200 minutes to hours by diving by 60\n",
    "200/60"
   ]
  },
  {
   "cell_type": "markdown",
   "id": "48c36ce4",
   "metadata": {},
   "source": [
    "Author\n",
    "## Muhammad Owais"
   ]
  },
  {
   "cell_type": "code",
   "execution_count": null,
   "id": "e9199c2a",
   "metadata": {},
   "outputs": [],
   "source": []
  }
 ],
 "metadata": {
  "kernelspec": {
   "display_name": "Python 3 (ipykernel)",
   "language": "python",
   "name": "python3"
  },
  "language_info": {
   "codemirror_mode": {
    "name": "ipython",
    "version": 3
   },
   "file_extension": ".py",
   "mimetype": "text/x-python",
   "name": "python",
   "nbconvert_exporter": "python",
   "pygments_lexer": "ipython3",
   "version": "3.9.12"
  }
 },
 "nbformat": 4,
 "nbformat_minor": 5
}
